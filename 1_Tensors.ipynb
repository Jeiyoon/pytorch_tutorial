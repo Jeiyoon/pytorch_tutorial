{
  "nbformat": 4,
  "nbformat_minor": 0,
  "metadata": {
    "colab": {
      "name": "1_Tensors.ipynb",
      "provenance": [],
      "collapsed_sections": [],
      "machine_shape": "hm"
    },
    "kernelspec": {
      "name": "python3",
      "display_name": "Python 3"
    },
    "language_info": {
      "name": "python"
    },
    "accelerator": "GPU"
  },
  "cells": [
    {
      "cell_type": "code",
      "execution_count": 21,
      "metadata": {
        "id": "H8C32IfPPgYM"
      },
      "outputs": [],
      "source": [
        "import torch\n",
        "import numpy as np"
      ]
    },
    {
      "cell_type": "code",
      "source": [
        "# initializing a tensor\n",
        "data = [[1, 2],\n",
        "        [3, 4],]\n",
        "\n",
        "x_data = torch.tensor(data)\n",
        "print(x_data)"
      ],
      "metadata": {
        "colab": {
          "base_uri": "https://localhost:8080/"
        },
        "id": "FZGFcc4amm3r",
        "outputId": "3c495a1e-1ce8-417b-b1c2-b4224aef5a80"
      },
      "execution_count": 22,
      "outputs": [
        {
          "output_type": "stream",
          "name": "stdout",
          "text": [
            "tensor([[1, 2],\n",
            "        [3, 4]])\n"
          ]
        }
      ]
    },
    {
      "cell_type": "code",
      "source": [
        "np_array = np.array(data)\n",
        "x_np = torch.from_numpy(np_array)\n",
        "print(x_np)"
      ],
      "metadata": {
        "colab": {
          "base_uri": "https://localhost:8080/"
        },
        "id": "RoBjtmxQp7o3",
        "outputId": "437434a3-da55-4721-bf46-076dfb78f340"
      },
      "execution_count": 23,
      "outputs": [
        {
          "output_type": "stream",
          "name": "stdout",
          "text": [
            "tensor([[1, 2],\n",
            "        [3, 4]])\n"
          ]
        }
      ]
    },
    {
      "cell_type": "code",
      "source": [
        "x_ones = torch.ones_like(x_data)\n",
        "print(f'Ones Tensor: \\n {x_ones} \\n')\n",
        "\n",
        "x_rand = torch.rand_like(x_data, dtype = torch.float)\n",
        "print(f'Random Tensor: \\n {x_rand} \\n')"
      ],
      "metadata": {
        "colab": {
          "base_uri": "https://localhost:8080/"
        },
        "id": "H9JN-konq8JM",
        "outputId": "3f9b221a-372f-4ea8-ca96-eca4aa6059ac"
      },
      "execution_count": 24,
      "outputs": [
        {
          "output_type": "stream",
          "name": "stdout",
          "text": [
            "Ones Tensor: \n",
            " tensor([[1, 1],\n",
            "        [1, 1]]) \n",
            "\n",
            "Random Tensor: \n",
            " tensor([[0.6175, 0.6138],\n",
            "        [0.3030, 0.6293]]) \n",
            "\n"
          ]
        }
      ]
    },
    {
      "cell_type": "code",
      "source": [
        "shape = (2, 3,)\n",
        "rand_tensor = torch.rand(shape)\n",
        "ones_tensor = torch.ones(shape)\n",
        "zeros_tensor = torch.zeros(shape)\n",
        "\n",
        "print(f\"Random Tensor: \\n {rand_tensor} \\n\")\n",
        "print(f\"Ones Tensor: \\n {ones_tensor} \\n\")\n",
        "print(f\"Zeros Tensor: \\n {zeros_tensor}\")"
      ],
      "metadata": {
        "colab": {
          "base_uri": "https://localhost:8080/"
        },
        "id": "1OXJSur03OL4",
        "outputId": "c9d051f1-97b4-4645-dfce-f05598831b5c"
      },
      "execution_count": 25,
      "outputs": [
        {
          "output_type": "stream",
          "name": "stdout",
          "text": [
            "Random Tensor: \n",
            " tensor([[0.7262, 0.3267, 0.1241],\n",
            "        [0.8365, 0.3271, 0.4244]]) \n",
            "\n",
            "Ones Tensor: \n",
            " tensor([[1., 1., 1.],\n",
            "        [1., 1., 1.]]) \n",
            "\n",
            "Zeros Tensor: \n",
            " tensor([[0., 0., 0.],\n",
            "        [0., 0., 0.]])\n"
          ]
        }
      ]
    },
    {
      "cell_type": "code",
      "source": [
        "tensor = torch.rand(3, 4)\n",
        "\n",
        "print(f\"Shape of tensor: {tensor.shape}\")\n",
        "print(f\"Datatype of tensor: {tensor.dtype}\")\n",
        "print(f\"Device tensor is stored on: {tensor.device}\")"
      ],
      "metadata": {
        "colab": {
          "base_uri": "https://localhost:8080/"
        },
        "id": "8lmJje8F4uVt",
        "outputId": "7fbf75b7-50f8-452b-c4a4-04d2ae885459"
      },
      "execution_count": 26,
      "outputs": [
        {
          "output_type": "stream",
          "name": "stdout",
          "text": [
            "Shape of tensor: torch.Size([3, 4])\n",
            "Datatype of tensor: torch.float32\n",
            "Device tensor is stored on: cpu\n"
          ]
        }
      ]
    },
    {
      "cell_type": "code",
      "source": [
        "if torch.cuda.is_available():\n",
        "  tensor = tensor.to('cuda')"
      ],
      "metadata": {
        "id": "Z_7dBZL5416U"
      },
      "execution_count": 27,
      "outputs": []
    },
    {
      "cell_type": "code",
      "source": [
        "tensor = torch.ones(4, 4)\n",
        "\n",
        "print('First row: ', tensor[0])\n",
        "print('First column: ', tensor[:, 0])\n",
        "print('Last column:', tensor[..., -1])\n",
        "\n",
        "tensor[:, 1] = 0\n",
        "print(tensor)"
      ],
      "metadata": {
        "colab": {
          "base_uri": "https://localhost:8080/"
        },
        "id": "tX-luj3f7o6a",
        "outputId": "5bc43108-b7d2-4f02-db46-2cb70e334ee8"
      },
      "execution_count": 28,
      "outputs": [
        {
          "output_type": "stream",
          "name": "stdout",
          "text": [
            "First row:  tensor([1., 1., 1., 1.])\n",
            "First column:  tensor([1., 1., 1., 1.])\n",
            "Last column: tensor([1., 1., 1., 1.])\n",
            "tensor([[1., 0., 1., 1.],\n",
            "        [1., 0., 1., 1.],\n",
            "        [1., 0., 1., 1.],\n",
            "        [1., 0., 1., 1.]])\n"
          ]
        }
      ]
    },
    {
      "cell_type": "code",
      "source": [
        "# torch.stack versus. torch.cat\n",
        "# https://sanghyu.tistory.com/85"
      ],
      "metadata": {
        "id": "R2A4VWO2_5kE"
      },
      "execution_count": 29,
      "outputs": []
    },
    {
      "cell_type": "markdown",
      "source": [
        "![1.PNG](data:image/png;base64,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)"
      ],
      "metadata": {
        "id": "ygdP-pFvBoGq"
      }
    },
    {
      "cell_type": "code",
      "source": [
        "import torch\n",
        "\n",
        "batch_size, N, K = 3, 10 ,256\n",
        "\n",
        "x = torch.rand(batch_size, N, K) # (M, N, K)\n",
        "y = torch.rand(batch_size, N, K) # (M, N, K)\n",
        "\n",
        "output1 = torch.cat([x, y], dim = 1) # (M, N + N, K)\n",
        "output2 = torch.cat([x, y], dim = 2) # (M, N, K + K)"
      ],
      "metadata": {
        "id": "Tt0b6xV2db3J"
      },
      "execution_count": 8,
      "outputs": []
    },
    {
      "cell_type": "markdown",
      "source": [
        "![2.PNG](data:image/png;base64,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)"
      ],
      "metadata": {
        "id": "iIp0j7QKBqOt"
      }
    },
    {
      "cell_type": "code",
      "source": [
        "output3 = torch.stack([x, y], dim = 1) # (M, 2, N, K)"
      ],
      "metadata": {
        "id": "qUb0ZkdPBmB_"
      },
      "execution_count": 9,
      "outputs": []
    },
    {
      "cell_type": "code",
      "source": [
        "t1 = torch.cat([tensor, tensor, tensor], dim = 1)\n",
        "print(t1)\n",
        "print(t1.shape)\n",
        "\n",
        "t2 = torch.stack([tensor, tensor, tensor], dim = 1)\n",
        "print(t2)\n",
        "print(t2.shape)"
      ],
      "metadata": {
        "colab": {
          "base_uri": "https://localhost:8080/"
        },
        "id": "351xJFcFfbl1",
        "outputId": "2dadcfa3-bdca-4414-be64-56556300e466"
      },
      "execution_count": 17,
      "outputs": [
        {
          "output_type": "stream",
          "name": "stdout",
          "text": [
            "tensor([[1., 0., 1., 1.],\n",
            "        [1., 0., 1., 1.],\n",
            "        [1., 0., 1., 1.],\n",
            "        [1., 0., 1., 1.]])\n",
            "tensor([[1., 0., 1., 1., 1., 0., 1., 1., 1., 0., 1., 1.],\n",
            "        [1., 0., 1., 1., 1., 0., 1., 1., 1., 0., 1., 1.],\n",
            "        [1., 0., 1., 1., 1., 0., 1., 1., 1., 0., 1., 1.],\n",
            "        [1., 0., 1., 1., 1., 0., 1., 1., 1., 0., 1., 1.]])\n",
            "torch.Size([4, 12])\n",
            "tensor([[[1., 0., 1., 1.],\n",
            "         [1., 0., 1., 1.],\n",
            "         [1., 0., 1., 1.]],\n",
            "\n",
            "        [[1., 0., 1., 1.],\n",
            "         [1., 0., 1., 1.],\n",
            "         [1., 0., 1., 1.]],\n",
            "\n",
            "        [[1., 0., 1., 1.],\n",
            "         [1., 0., 1., 1.],\n",
            "         [1., 0., 1., 1.]],\n",
            "\n",
            "        [[1., 0., 1., 1.],\n",
            "         [1., 0., 1., 1.],\n",
            "         [1., 0., 1., 1.]]])\n",
            "torch.Size([4, 3, 4])\n"
          ]
        }
      ]
    },
    {
      "cell_type": "code",
      "source": [
        "# Arithmetic operations\n",
        "# This computes the matrix multiplication between two tensors. y1, y2, y3 will have the same value\n",
        "y1 = tensor @ tensor.T\n",
        "y2 = tensor.matmul(tensor.T)\n",
        "\n",
        "# https://pytorch.org/docs/stable/generated/torch.randn_like.html\n",
        "y3 = torch.rand_like(tensor)\n",
        "torch.matmul(tensor, tensor.T, out = y3)\n",
        "\n",
        "print(y1)\n",
        "print(y2)\n",
        "print(y3)\n",
        "\n",
        "# This computes the element-wise product. z1, z2, z3 will have the same value\n",
        "z1 = tensor * tensor\n",
        "z2 = tensor.mul(tensor)\n",
        "\n",
        "z3 = torch.rand_like(tensor)\n",
        "torch.mul(tensor, tensor, out = z3)\n",
        "\n",
        "print(z1)\n",
        "print(z2)\n",
        "print(z3)"
      ],
      "metadata": {
        "colab": {
          "base_uri": "https://localhost:8080/"
        },
        "id": "Eg7tKUf6f4vX",
        "outputId": "e7d80ec3-2719-49d8-8a66-ac138322a489"
      },
      "execution_count": 35,
      "outputs": [
        {
          "output_type": "stream",
          "name": "stdout",
          "text": [
            "tensor([[3., 3., 3., 3.],\n",
            "        [3., 3., 3., 3.],\n",
            "        [3., 3., 3., 3.],\n",
            "        [3., 3., 3., 3.]])\n",
            "tensor([[3., 3., 3., 3.],\n",
            "        [3., 3., 3., 3.],\n",
            "        [3., 3., 3., 3.],\n",
            "        [3., 3., 3., 3.]])\n",
            "tensor([[3., 3., 3., 3.],\n",
            "        [3., 3., 3., 3.],\n",
            "        [3., 3., 3., 3.],\n",
            "        [3., 3., 3., 3.]])\n",
            "tensor([[1., 0., 1., 1.],\n",
            "        [1., 0., 1., 1.],\n",
            "        [1., 0., 1., 1.],\n",
            "        [1., 0., 1., 1.]])\n",
            "tensor([[1., 0., 1., 1.],\n",
            "        [1., 0., 1., 1.],\n",
            "        [1., 0., 1., 1.],\n",
            "        [1., 0., 1., 1.]])\n",
            "tensor([[1., 0., 1., 1.],\n",
            "        [1., 0., 1., 1.],\n",
            "        [1., 0., 1., 1.],\n",
            "        [1., 0., 1., 1.]])\n"
          ]
        }
      ]
    },
    {
      "cell_type": "code",
      "source": [
        "\"\"\"\n",
        "Single-element tensors If you have a one-element tensor, \n",
        "for example by aggregating all values of a tensor into one value, \n",
        "you can convert it to a Python numerical value using item():\n",
        "\"\"\"\n",
        "print(tensor)\n",
        "agg = tensor.sum()\n",
        "print(agg)\n",
        "print(agg.dtype)\n",
        "agg_item = agg.item()\n",
        "print(agg_item, type(agg_item))"
      ],
      "metadata": {
        "colab": {
          "base_uri": "https://localhost:8080/"
        },
        "id": "wi0kcz2mkqiS",
        "outputId": "d298a00a-de1a-407b-8640-bf3cb30a817b"
      },
      "execution_count": 37,
      "outputs": [
        {
          "output_type": "stream",
          "name": "stdout",
          "text": [
            "tensor([[1., 0., 1., 1.],\n",
            "        [1., 0., 1., 1.],\n",
            "        [1., 0., 1., 1.],\n",
            "        [1., 0., 1., 1.]])\n",
            "tensor(12.)\n",
            "torch.float32\n",
            "12.0 <class 'float'>\n"
          ]
        }
      ]
    },
    {
      "cell_type": "code",
      "source": [
        "\"\"\"\n",
        "In-place operations Operations that store the result into the operand are called in-place. \n",
        "They are denoted by a _ suffix. \n",
        "For example: x.copy_(y), x.t_(), will change x.\n",
        "\"\"\"\n",
        "print(tensor, \"\\n\")\n",
        "tensor.add_(5)\n",
        "print(tensor)"
      ],
      "metadata": {
        "colab": {
          "base_uri": "https://localhost:8080/"
        },
        "id": "Yj-zrjQAmccx",
        "outputId": "0d08fd23-1753-4213-ffb6-bdd94addcee3"
      },
      "execution_count": 39,
      "outputs": [
        {
          "output_type": "stream",
          "name": "stdout",
          "text": [
            "tensor([[6., 5., 6., 6.],\n",
            "        [6., 5., 6., 6.],\n",
            "        [6., 5., 6., 6.],\n",
            "        [6., 5., 6., 6.]]) \n",
            "\n",
            "tensor([[11., 10., 11., 11.],\n",
            "        [11., 10., 11., 11.],\n",
            "        [11., 10., 11., 11.],\n",
            "        [11., 10., 11., 11.]])\n"
          ]
        }
      ]
    },
    {
      "cell_type": "code",
      "source": [
        "# bridge with Numpy\n",
        "t = torch.ones(5)\n",
        "print(f\"t: {t}\")\n",
        "n = t.numpy()\n",
        "print(f\"n: {n}\")"
      ],
      "metadata": {
        "colab": {
          "base_uri": "https://localhost:8080/"
        },
        "id": "UdCR6coZms-_",
        "outputId": "b25a9218-abe3-401f-a652-4b89ddbe578e"
      },
      "execution_count": 41,
      "outputs": [
        {
          "output_type": "stream",
          "name": "stdout",
          "text": [
            "t: tensor([1., 1., 1., 1., 1.])\n",
            "n: [1. 1. 1. 1. 1.]\n"
          ]
        }
      ]
    },
    {
      "cell_type": "code",
      "source": [
        "\"\"\"\n",
        "A change in the tensor reflects in the NumPy array.\n",
        "\"\"\"\n",
        "t.add_(1)\n",
        "print(f\"t: {t}\")\n",
        "print(f\"n: {n}\")"
      ],
      "metadata": {
        "colab": {
          "base_uri": "https://localhost:8080/"
        },
        "id": "towUocb_qVU4",
        "outputId": "0c995a9c-f04d-44dd-ecc0-0e4ae63eebdf"
      },
      "execution_count": 44,
      "outputs": [
        {
          "output_type": "stream",
          "name": "stdout",
          "text": [
            "t: tensor([4., 4., 4., 4., 4.])\n",
            "n: [4. 4. 4. 4. 4.]\n"
          ]
        }
      ]
    },
    {
      "cell_type": "code",
      "source": [
        "# Numpy array to Tensor\n",
        "n = np.ones(5)\n",
        "t = torch.from_numpy(n)"
      ],
      "metadata": {
        "id": "hHDBNLFMq4VX"
      },
      "execution_count": 45,
      "outputs": []
    },
    {
      "cell_type": "code",
      "source": [
        "\"\"\"\n",
        "Changes in the NumPy array reflects in the tensor.\n",
        "\"\"\"\n",
        "np.add(n, 1, out=n)\n",
        "print(f\"t: {t}\")\n",
        "print(f\"n: {n}\")"
      ],
      "metadata": {
        "colab": {
          "base_uri": "https://localhost:8080/"
        },
        "id": "7vrmXqcLq9ym",
        "outputId": "9ed4c1a7-628a-4535-f70e-f9266bdbc5db"
      },
      "execution_count": 47,
      "outputs": [
        {
          "output_type": "stream",
          "name": "stdout",
          "text": [
            "t: tensor([3., 3., 3., 3., 3.], dtype=torch.float64)\n",
            "n: [3. 3. 3. 3. 3.]\n"
          ]
        }
      ]
    },
    {
      "cell_type": "code",
      "source": [
        ""
      ],
      "metadata": {
        "id": "34HzpuDJq_Ht"
      },
      "execution_count": null,
      "outputs": []
    }
  ]
}