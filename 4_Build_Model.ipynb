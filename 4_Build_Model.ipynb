{
  "nbformat": 4,
  "nbformat_minor": 0,
  "metadata": {
    "colab": {
      "name": "4_Build_Model.ipynb",
      "provenance": [],
      "collapsed_sections": [],
      "machine_shape": "hm"
    },
    "kernelspec": {
      "name": "python3",
      "display_name": "Python 3"
    },
    "language_info": {
      "name": "python"
    },
    "accelerator": "GPU"
  },
  "cells": [
    {
      "cell_type": "code",
      "execution_count": 1,
      "metadata": {
        "id": "URgf3j3s8mZB"
      },
      "outputs": [],
      "source": [
        "import os\n",
        "import torch\n",
        "from torch import nn\n",
        "from torch.utils.data import DataLoader\n",
        "from torchvision import datasets, transforms"
      ]
    },
    {
      "cell_type": "code",
      "source": [
        "device = 'cuda' if torch.cuda.is_available() else 'cpu'\n",
        "print(f'Using {device} device')"
      ],
      "metadata": {
        "colab": {
          "base_uri": "https://localhost:8080/"
        },
        "id": "iFXppN088-nK",
        "outputId": "f5b00c22-3273-427b-ecad-af97219e9e7a"
      },
      "execution_count": 2,
      "outputs": [
        {
          "output_type": "stream",
          "name": "stdout",
          "text": [
            "Using cuda device\n"
          ]
        }
      ]
    },
    {
      "cell_type": "code",
      "source": [
        "class NeuralNetwork(nn.Module):\n",
        "  def __init__(self):\n",
        "    super(NeuralNetwork, self).__init__()\n",
        "    self.flatten = nn.Flatten()\n",
        "    self.linear_relu_stack = nn.Sequential(\n",
        "        nn.Linear(28 * 28, 512),\n",
        "        nn.ReLU(),\n",
        "        nn.Linear(512, 512),\n",
        "        nn.ReLU(),\n",
        "        nn.Linear(512, 10),\n",
        "    )\n",
        "\n",
        "  def forward(self, x):\n",
        "    x = self.flatten(x)\n",
        "    logits = self.linear_relu_stack(x)\n",
        "\n",
        "    return logits"
      ],
      "metadata": {
        "id": "18-w0o19Fu4y"
      },
      "execution_count": 8,
      "outputs": []
    },
    {
      "cell_type": "code",
      "source": [
        "model = NeuralNetwork().to(device)\n",
        "print(model)"
      ],
      "metadata": {
        "colab": {
          "base_uri": "https://localhost:8080/"
        },
        "id": "KpdjBlr_IAtA",
        "outputId": "695a1f60-34f3-4d94-dee1-d5a71d3b64dd"
      },
      "execution_count": 9,
      "outputs": [
        {
          "output_type": "stream",
          "name": "stdout",
          "text": [
            "NeuralNetwork(\n",
            "  (flatten): Flatten(start_dim=1, end_dim=-1)\n",
            "  (linear_relu_stack): Sequential(\n",
            "    (0): Linear(in_features=784, out_features=512, bias=True)\n",
            "    (1): ReLU()\n",
            "    (2): Linear(in_features=512, out_features=512, bias=True)\n",
            "    (3): ReLU()\n",
            "    (4): Linear(in_features=512, out_features=10, bias=True)\n",
            "  )\n",
            ")\n"
          ]
        }
      ]
    },
    {
      "cell_type": "code",
      "source": [
        "X = torch.rand(1, 28, 28, device=device)\n",
        "logits = model(X)\n",
        "# dim (int) – A dimension along which Softmax will be computed \n",
        "# (so every slice along dim will sum to 1).\n",
        "# https://pytorch.org/docs/stable/generated/torch.nn.Softmax.html\n",
        "pred_probab = nn.Softmax(dim = 1)(logits)\n",
        "y_pred = pred_probab.argmax(1)\n",
        "print(f\"Predicted class: {y_pred}\")"
      ],
      "metadata": {
        "colab": {
          "base_uri": "https://localhost:8080/"
        },
        "id": "nWx7BTt0IFT3",
        "outputId": "f3c02806-f97b-447a-f7f9-30a614ac753f"
      },
      "execution_count": 10,
      "outputs": [
        {
          "output_type": "stream",
          "name": "stdout",
          "text": [
            "Predicted class: tensor([2], device='cuda:0')\n"
          ]
        }
      ]
    },
    {
      "cell_type": "code",
      "source": [
        "# model layers\n",
        "input_image = torch.rand(3, 28, 28)\n",
        "print(input_image.size())"
      ],
      "metadata": {
        "id": "3rQJx34eP0ND",
        "colab": {
          "base_uri": "https://localhost:8080/"
        },
        "outputId": "57a5bf43-773e-4e93-d5e6-575b934d172a"
      },
      "execution_count": 11,
      "outputs": [
        {
          "output_type": "stream",
          "name": "stdout",
          "text": [
            "torch.Size([3, 28, 28])\n"
          ]
        }
      ]
    },
    {
      "cell_type": "code",
      "source": [
        "# nn.Flatten\n",
        "flatten = nn.Flatten()\n",
        "flat_image = flatten(input_image)\n",
        "print(flat_image.size())"
      ],
      "metadata": {
        "colab": {
          "base_uri": "https://localhost:8080/"
        },
        "id": "DEh32CONRYth",
        "outputId": "9869a622-ab66-498a-a9db-0b04e919738a"
      },
      "execution_count": 12,
      "outputs": [
        {
          "output_type": "stream",
          "name": "stdout",
          "text": [
            "torch.Size([3, 784])\n"
          ]
        }
      ]
    },
    {
      "cell_type": "code",
      "source": [
        "# nn.Linear\n",
        "layer1 = nn.Linear(in_features=28*28, out_features=20)\n",
        "hidden1 = layer1(flat_image)\n",
        "print(hidden1.size())"
      ],
      "metadata": {
        "colab": {
          "base_uri": "https://localhost:8080/"
        },
        "id": "E58NiLbCSMyg",
        "outputId": "0e111e12-e50f-4dbb-8ce9-7b223513704f"
      },
      "execution_count": 13,
      "outputs": [
        {
          "output_type": "stream",
          "name": "stdout",
          "text": [
            "torch.Size([3, 20])\n"
          ]
        }
      ]
    },
    {
      "cell_type": "code",
      "source": [
        "# nn.ReLU\n",
        "print(f\"Before ReLU: {hidden1}\\n\\n\")\n",
        "hidden1 = nn.ReLU()(hidden1)\n",
        "print(f\"After ReLU: {hidden1}\")"
      ],
      "metadata": {
        "colab": {
          "base_uri": "https://localhost:8080/"
        },
        "id": "Makz8JJmSQpo",
        "outputId": "3a81ffb2-97a6-404f-a8be-85b4791bfe75"
      },
      "execution_count": 15,
      "outputs": [
        {
          "output_type": "stream",
          "name": "stdout",
          "text": [
            "Before ReLU: tensor([[ 0.0088, -0.0321,  0.2508,  0.0856, -0.0330, -0.2658, -0.8396, -0.2361,\n",
            "          0.2046,  0.3034, -0.1936, -0.3110, -0.1889, -0.0126,  0.1477, -0.5605,\n",
            "         -0.1865,  0.4032, -0.2217, -0.3386],\n",
            "        [-0.2866,  0.0239,  0.3479, -0.0628, -0.1986, -0.0583, -1.1124, -0.2655,\n",
            "          0.1446,  0.1150, -0.3092, -0.0495, -0.3419,  0.5696,  0.0024, -0.3524,\n",
            "          0.0647,  0.7077, -0.1835, -0.1974],\n",
            "        [-0.0353, -0.1539, -0.1744, -0.0967, -0.1905,  0.0293, -0.7111, -0.1914,\n",
            "          0.3506,  0.5363, -0.5544,  0.2104, -0.1805,  0.0980,  0.3908, -0.4590,\n",
            "          0.2534,  0.3029, -0.2452, -0.1870]], grad_fn=<AddmmBackward0>)\n",
            "\n",
            "\n",
            "After ReLU: tensor([[0.0088, 0.0000, 0.2508, 0.0856, 0.0000, 0.0000, 0.0000, 0.0000, 0.2046,\n",
            "         0.3034, 0.0000, 0.0000, 0.0000, 0.0000, 0.1477, 0.0000, 0.0000, 0.4032,\n",
            "         0.0000, 0.0000],\n",
            "        [0.0000, 0.0239, 0.3479, 0.0000, 0.0000, 0.0000, 0.0000, 0.0000, 0.1446,\n",
            "         0.1150, 0.0000, 0.0000, 0.0000, 0.5696, 0.0024, 0.0000, 0.0647, 0.7077,\n",
            "         0.0000, 0.0000],\n",
            "        [0.0000, 0.0000, 0.0000, 0.0000, 0.0000, 0.0293, 0.0000, 0.0000, 0.3506,\n",
            "         0.5363, 0.0000, 0.2104, 0.0000, 0.0980, 0.3908, 0.0000, 0.2534, 0.3029,\n",
            "         0.0000, 0.0000]], grad_fn=<ReluBackward0>)\n"
          ]
        }
      ]
    },
    {
      "cell_type": "code",
      "source": [
        "# nn.Sequential\n",
        "seq_modules = nn.Sequential(\n",
        "    flatten,\n",
        "    layer1,\n",
        "    nn.ReLU(),\n",
        "    nn.Linear(20, 10)\n",
        ")\n",
        "input_image = torch.rand(3,28,28)\n",
        "logits = seq_modules(input_image)"
      ],
      "metadata": {
        "id": "S0hDqXG3STTA"
      },
      "execution_count": 16,
      "outputs": []
    },
    {
      "cell_type": "code",
      "source": [
        "# nn.Softmax\n",
        "\"\"\"\n",
        "The last linear layer of the neural network returns logits - raw values in [-infty, infty]\n",
        "which are passed to the nn.Softmax module. The logits are scaled to values [0, 1] representing \n",
        "the model’s predicted probabilities for each class.\n",
        "dim parameter indicates the dimension along which the values must sum to 1.\n",
        "\"\"\"\n",
        "softmax = nn.Softmax(dim=1)\n",
        "pred_probab = softmax(logits)\n",
        "print(pred_probab)\n",
        "print(pred_probab.argmax(1))"
      ],
      "metadata": {
        "colab": {
          "base_uri": "https://localhost:8080/"
        },
        "id": "7pgFFg2DSY1k",
        "outputId": "1631c6e0-29c1-41f3-fa68-62dfeb8d57a0"
      },
      "execution_count": 21,
      "outputs": [
        {
          "output_type": "stream",
          "name": "stdout",
          "text": [
            "tensor([[0.0962, 0.0822, 0.1068, 0.1060, 0.0931, 0.1085, 0.1096, 0.1046, 0.1107,\n",
            "         0.0823],\n",
            "        [0.1000, 0.0896, 0.1254, 0.0933, 0.1146, 0.1046, 0.0962, 0.0972, 0.1037,\n",
            "         0.0755],\n",
            "        [0.0940, 0.0809, 0.1052, 0.1055, 0.1035, 0.1029, 0.1043, 0.1152, 0.1016,\n",
            "         0.0868]], grad_fn=<SoftmaxBackward0>)\n",
            "tensor([8, 2, 7])\n"
          ]
        }
      ]
    },
    {
      "cell_type": "code",
      "source": [
        "# Model Parameters\n",
        "\"\"\"\n",
        "Many layers inside a neural network are parameterized, \n",
        "i.e. have associated weights and biases that are optimized during training. \n",
        "Subclassing nn.Module automatically tracks all fields defined inside your model object, \n",
        "and makes all parameters accessible using your model’s parameters() or named_parameters() methods.\n",
        "\"\"\"\n",
        "print(\"Model structure: \", model, \"\\n\\n\")\n",
        "\n",
        "for name, param in model.named_parameters():\n",
        "    print(f\"Layer: {name} | Size: {param.size()} | Values : {param[:2]} \\n\")"
      ],
      "metadata": {
        "colab": {
          "base_uri": "https://localhost:8080/"
        },
        "id": "44MojQJgTP6g",
        "outputId": "9ea2d784-d33b-419d-9fb8-81b644c69492"
      },
      "execution_count": 18,
      "outputs": [
        {
          "output_type": "stream",
          "name": "stdout",
          "text": [
            "Model structure:  NeuralNetwork(\n",
            "  (flatten): Flatten(start_dim=1, end_dim=-1)\n",
            "  (linear_relu_stack): Sequential(\n",
            "    (0): Linear(in_features=784, out_features=512, bias=True)\n",
            "    (1): ReLU()\n",
            "    (2): Linear(in_features=512, out_features=512, bias=True)\n",
            "    (3): ReLU()\n",
            "    (4): Linear(in_features=512, out_features=10, bias=True)\n",
            "  )\n",
            ") \n",
            "\n",
            "\n",
            "Layer: linear_relu_stack.0.weight | Size: torch.Size([512, 784]) | Values : tensor([[ 0.0143, -0.0194,  0.0307,  ...,  0.0261, -0.0078,  0.0301],\n",
            "        [ 0.0051,  0.0336, -0.0338,  ..., -0.0037,  0.0120,  0.0048]],\n",
            "       device='cuda:0', grad_fn=<SliceBackward0>) \n",
            "\n",
            "Layer: linear_relu_stack.0.bias | Size: torch.Size([512]) | Values : tensor([-0.0206,  0.0221], device='cuda:0', grad_fn=<SliceBackward0>) \n",
            "\n",
            "Layer: linear_relu_stack.2.weight | Size: torch.Size([512, 512]) | Values : tensor([[-0.0182,  0.0069,  0.0342,  ..., -0.0190,  0.0398, -0.0149],\n",
            "        [-0.0152,  0.0415,  0.0420,  ..., -0.0279, -0.0264, -0.0218]],\n",
            "       device='cuda:0', grad_fn=<SliceBackward0>) \n",
            "\n",
            "Layer: linear_relu_stack.2.bias | Size: torch.Size([512]) | Values : tensor([0.0344, 0.0029], device='cuda:0', grad_fn=<SliceBackward0>) \n",
            "\n",
            "Layer: linear_relu_stack.4.weight | Size: torch.Size([10, 512]) | Values : tensor([[ 0.0137,  0.0034,  0.0063,  ..., -0.0379,  0.0413, -0.0311],\n",
            "        [ 0.0131,  0.0279, -0.0028,  ...,  0.0135,  0.0054,  0.0197]],\n",
            "       device='cuda:0', grad_fn=<SliceBackward0>) \n",
            "\n",
            "Layer: linear_relu_stack.4.bias | Size: torch.Size([10]) | Values : tensor([-0.0088, -0.0437], device='cuda:0', grad_fn=<SliceBackward0>) \n",
            "\n"
          ]
        }
      ]
    },
    {
      "cell_type": "code",
      "source": [
        ""
      ],
      "metadata": {
        "id": "w7G_ZdPvTS-A"
      },
      "execution_count": null,
      "outputs": []
    }
  ]
}