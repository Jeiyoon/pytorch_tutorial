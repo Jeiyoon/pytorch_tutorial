{
  "nbformat": 4,
  "nbformat_minor": 0,
  "metadata": {
    "colab": {
      "name": "3_Transforms.ipynb",
      "provenance": [],
      "collapsed_sections": []
    },
    "kernelspec": {
      "name": "python3",
      "display_name": "Python 3"
    },
    "language_info": {
      "name": "python"
    }
  },
  "cells": [
    {
      "cell_type": "code",
      "execution_count": 4,
      "metadata": {
        "id": "qQlaXDqW4mNm"
      },
      "outputs": [],
      "source": [
        "import torch\n",
        "from torchvision import datasets\n",
        "from torchvision.transforms import ToTensor, Lambda\n",
        "\n",
        "\"\"\"\n",
        "ToTensor converts a PIL image or NumPy ndarray into a FloatTensor. \n",
        "and scales the image’s pixel intensity values in the range [0., 1.]\n",
        "\"\"\"\n",
        "\n",
        "\"\"\"\n",
        "Lambda transforms apply any user-defined lambda function.\n",
        "Here, we define a function to turn the integer into a one-hot encoded tensor. \n",
        "It first creates a zero tensor of size 10 (the number of labels in our dataset) \n",
        "and calls scatter_ which assigns a value = 1 on the index as given by the label y.\n",
        "\"\"\"\n",
        "ds = datasets.FashionMNIST(\n",
        "    root = 'data',\n",
        "    train = True,\n",
        "    download = True,\n",
        "    transform = ToTensor(),\n",
        "    target_transform = Lambda(lambda y: torch.zeros(10,\n",
        "                                                    dtype = torch.float).scatter_(dim = 0,\n",
        "                                                                                  index = torch.tensor(y),\n",
        "                                                                                  value = 1),),\n",
        ")"
      ]
    },
    {
      "cell_type": "code",
      "source": [
        ""
      ],
      "metadata": {
        "id": "O06oBAki6ln6"
      },
      "execution_count": null,
      "outputs": []
    }
  ]
}